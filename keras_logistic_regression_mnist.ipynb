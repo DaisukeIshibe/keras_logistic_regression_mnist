{
  "nbformat": 4,
  "nbformat_minor": 0,
  "metadata": {
    "colab": {
      "name": "keras_logistic_regression_mnist.ipynb",
      "provenance": []
    },
    "kernelspec": {
      "name": "python3",
      "display_name": "Python 3"
    },
    "accelerator": "GPU"
  },
  "cells": [
    {
      "cell_type": "code",
      "metadata": {
        "id": "ukJmVeKm6YHJ",
        "colab_type": "code",
        "colab": {}
      },
      "source": [
        "import keras\n",
        "from keras.datasets import mnist\n",
        "from keras.models import Sequential\n",
        "from keras.layers import Dense, InputLayer\n",
        "from keras.optimizers import Adagrad\n",
        "import numpy as np"
      ],
      "execution_count": 0,
      "outputs": []
    },
    {
      "cell_type": "markdown",
      "metadata": {
        "id": "sFt1wkDWG3Ml",
        "colab_type": "text"
      },
      "source": [
        "Load MNIST data, and transform to feed keras"
      ]
    },
    {
      "cell_type": "code",
      "metadata": {
        "id": "oopCuteX-X1N",
        "colab_type": "code",
        "colab": {}
      },
      "source": [
        "(x_train, y_train), (x_test, y_test) = mnist.load_data()"
      ],
      "execution_count": 0,
      "outputs": []
    },
    {
      "cell_type": "code",
      "metadata": {
        "id": "GDtnaTIDKMyq",
        "colab_type": "code",
        "colab": {}
      },
      "source": [
        "cat_num = len(set(y_test))"
      ],
      "execution_count": 0,
      "outputs": []
    },
    {
      "cell_type": "code",
      "metadata": {
        "id": "0Tv69sCbIhGj",
        "colab_type": "code",
        "colab": {}
      },
      "source": [
        "train_size, y, x = x_train.shape\n",
        "test_size = x_test.shape[0]\n",
        "input_size = x*y"
      ],
      "execution_count": 0,
      "outputs": []
    },
    {
      "cell_type": "code",
      "metadata": {
        "id": "oJMwmIqFIXRx",
        "colab_type": "code",
        "colab": {}
      },
      "source": [
        "x_train  = x_train.reshape(train_size, input_size)\n",
        "x_test   = x_test.reshape(test_size, input_size)\n",
        "x_train = x_train.astype('float32')\n",
        "x_test  = x_test.astype('float32')\n",
        "x_train, x_test = x_train / 255.0, x_test / 255.0\n",
        "y_train = keras.utils.to_categorical(y_train, cat_num)\n",
        "y_test  = keras.utils.to_categorical(y_test, cat_num)"
      ],
      "execution_count": 0,
      "outputs": []
    },
    {
      "cell_type": "markdown",
      "metadata": {
        "id": "pYkpYGSeHElB",
        "colab_type": "text"
      },
      "source": [
        "Simple logistic regression model\n",
        "\n"
      ]
    },
    {
      "cell_type": "code",
      "metadata": {
        "id": "07jHVYkP-qnQ",
        "colab_type": "code",
        "colab": {}
      },
      "source": [
        "model = Sequential()\n",
        "model.add(InputLayer(input_shape=(input_size,)))\n",
        "model.add(Dense(cat_num, activation='softmax'))"
      ],
      "execution_count": 0,
      "outputs": []
    },
    {
      "cell_type": "code",
      "metadata": {
        "id": "4QgSdVOPGv3t",
        "colab_type": "code",
        "colab": {}
      },
      "source": [
        "model.compile(loss='categorical_crossentropy', optimizer=Adagrad(), metrics=['accuracy'])"
      ],
      "execution_count": 0,
      "outputs": []
    },
    {
      "cell_type": "markdown",
      "metadata": {
        "id": "h6_z9KZ_KAiR",
        "colab_type": "text"
      },
      "source": [
        "Set parameters"
      ]
    },
    {
      "cell_type": "code",
      "metadata": {
        "id": "pfDXlQ4tJ-g-",
        "colab_type": "code",
        "colab": {}
      },
      "source": [
        "batch_size = 128\n",
        "epochs = 30"
      ],
      "execution_count": 0,
      "outputs": []
    },
    {
      "cell_type": "markdown",
      "metadata": {
        "id": "pOWQWWLcLKV1",
        "colab_type": "text"
      },
      "source": [
        "Learning process with validation"
      ]
    },
    {
      "cell_type": "code",
      "metadata": {
        "id": "IUMR6zik-U0w",
        "colab_type": "code",
        "colab": {}
      },
      "source": [
        "model.fit(x_train, y_train, batch_size=batch_size, epochs=epochs, verbose=1, validation_data=(x_test, y_test))"
      ],
      "execution_count": 0,
      "outputs": []
    }
  ]
}